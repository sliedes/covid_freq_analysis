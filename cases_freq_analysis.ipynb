{
 "cells": [
  {
   "cell_type": "code",
   "execution_count": 1,
   "metadata": {},
   "outputs": [],
   "source": [
    "import pandas as pd\n",
    "import numpy as np\n",
    "import datetime\n",
    "import calendar\n",
    "import scipy.signal\n",
    "import ipywidgets"
   ]
  },
  {
   "cell_type": "code",
   "execution_count": 2,
   "metadata": {},
   "outputs": [],
   "source": [
    "START_CASES = 500\n",
    "COUNTRY = 'Finland'"
   ]
  },
  {
   "cell_type": "code",
   "execution_count": 3,
   "metadata": {},
   "outputs": [],
   "source": [
    "data = pd.read_csv('https://raw.githubusercontent.com/CSSEGISandData/COVID-19/master/csse_covid_19_data/csse_covid_19_time_series/time_series_covid19_confirmed_global.csv')\n",
    "data = data[data['Country/Region'] == COUNTRY].loc[:, '1/22/20':].T.iloc[:, 0].rename('cum_cases')\n",
    "data.index = pd.to_datetime(data.index).rename('date')\n",
    "# start from first day with at most START_CASES cases\n",
    "data = data[(data >= START_CASES).idxmax():]"
   ]
  },
  {
   "cell_type": "code",
   "execution_count": 4,
   "metadata": {},
   "outputs": [
    {
     "data": {
      "text/plain": [
       "date\n",
       "2020-03-21      523\n",
       "2020-03-22      626\n",
       "2020-03-23      700\n",
       "2020-03-24      792\n",
       "2020-03-25      880\n",
       "              ...  \n",
       "2021-03-18    69497\n",
       "2021-03-19    70267\n",
       "2021-03-20    71123\n",
       "2021-03-21    71643\n",
       "2021-03-22    72073\n",
       "Name: cum_cases, Length: 367, dtype: int64"
      ]
     },
     "execution_count": 4,
     "metadata": {},
     "output_type": "execute_result"
    }
   ],
   "source": [
    "data"
   ]
  },
  {
   "cell_type": "code",
   "execution_count": 5,
   "metadata": {},
   "outputs": [
    {
     "data": {
      "application/vnd.jupyter.widget-view+json": {
       "model_id": "d70b184682894c15b49e644ef9c58b72",
       "version_major": 2,
       "version_minor": 0
      },
      "text/plain": [
       "Canvas(toolbar=Toolbar(toolitems=[('Home', 'Reset original view', 'home', 'home'), ('Back', 'Back to previous …"
      ]
     },
     "metadata": {},
     "output_type": "display_data"
    }
   ],
   "source": [
    "%matplotlib widget\n",
    "data.plot(title='Cases, cumulative');"
   ]
  },
  {
   "cell_type": "code",
   "execution_count": 6,
   "metadata": {},
   "outputs": [
    {
     "data": {
      "application/vnd.jupyter.widget-view+json": {
       "model_id": "e8a23677f89f48e195e0bd905c1e5188",
       "version_major": 2,
       "version_minor": 0
      },
      "text/plain": [
       "Canvas(toolbar=Toolbar(toolitems=[('Home', 'Reset original view', 'home', 'home'), ('Back', 'Back to previous …"
      ]
     },
     "metadata": {},
     "output_type": "display_data"
    }
   ],
   "source": [
    "cases_per_day = data.diff().dropna()\n",
    "\n",
    "%matplotlib widget\n",
    "cases_per_day.plot();"
   ]
  },
  {
   "cell_type": "code",
   "execution_count": 7,
   "metadata": {},
   "outputs": [
    {
     "data": {
      "application/vnd.jupyter.widget-view+json": {
       "model_id": "9099ded657434da9b45f279431ef6ae1",
       "version_major": 2,
       "version_minor": 0
      },
      "text/plain": [
       "Canvas(toolbar=Toolbar(toolitems=[('Home', 'Reset original view', 'home', 'home'), ('Back', 'Back to previous …"
      ]
     },
     "metadata": {},
     "output_type": "display_data"
    }
   ],
   "source": [
    "%matplotlib widget\n",
    "\n",
    "for weekday in range(7):\n",
    "    # df = nonzero_days[nonzero_days.index.weekday == weekday]\n",
    "    df = cases_per_day[cases_per_day.index.weekday == weekday]\n",
    "    df.rolling(5, center=True).mean().plot(label=calendar.day_name[weekday], legend=True, logy=True, title='Daily new cases, weekdays, smoothed')\n",
    "    # df.plot(label=calendar.day_name[weekday], legend=True, title='Daily new cases')"
   ]
  },
  {
   "cell_type": "code",
   "execution_count": 8,
   "metadata": {},
   "outputs": [
    {
     "data": {
      "application/vnd.jupyter.widget-view+json": {
       "model_id": "636d98c9f01d4784b349ce2cd7b734ab",
       "version_major": 2,
       "version_minor": 0
      },
      "text/plain": [
       "Canvas(toolbar=Toolbar(toolitems=[('Home', 'Reset original view', 'home', 'home'), ('Back', 'Back to previous …"
      ]
     },
     "metadata": {},
     "output_type": "display_data"
    }
   ],
   "source": [
    "%matplotlib widget\n",
    "\n",
    "MIN_CASES_PER_DAY = 0\n",
    "smoothed = cases_per_day.rolling(7, center=True).mean()\n",
    "smoothed = smoothed.where(smoothed >= MIN_CASES_PER_DAY)\n",
    "diff_to_win = (cases_per_day - smoothed) / smoothed * 100.0\n",
    "for weekday in range(7):\n",
    "    df = diff_to_win[cases_per_day.index.weekday == weekday]\n",
    "    df.rolling(5, center=True).mean().plot(label=calendar.day_name[weekday], legend=True, logy=False, title='Daily new cases, diff to 7-day window mean, %')"
   ]
  },
  {
   "cell_type": "code",
   "execution_count": 9,
   "metadata": {},
   "outputs": [
    {
     "data": {
      "application/vnd.jupyter.widget-view+json": {
       "model_id": "f7bcf6fecd2d4cb0b3b54f2122dea504",
       "version_major": 2,
       "version_minor": 0
      },
      "text/plain": [
       "Canvas(toolbar=Toolbar(toolitems=[('Home', 'Reset original view', 'home', 'home'), ('Back', 'Back to previous …"
      ]
     },
     "metadata": {},
     "output_type": "display_data"
    }
   ],
   "source": [
    "%matplotlib widget\n",
    "np.log(cases_per_day.where(cases_per_day > 0)).diff().plot(title='Change in number of new cases from previous day');"
   ]
  },
  {
   "cell_type": "code",
   "execution_count": 10,
   "metadata": {},
   "outputs": [
    {
     "data": {
      "application/vnd.jupyter.widget-view+json": {
       "model_id": "641208df63864d94a168157bfee76556",
       "version_major": 2,
       "version_minor": 0
      },
      "text/plain": [
       "Canvas(toolbar=Toolbar(toolitems=[('Home', 'Reset original view', 'home', 'home'), ('Back', 'Back to previous …"
      ]
     },
     "metadata": {},
     "output_type": "display_data"
    }
   ],
   "source": [
    "%matplotlib widget\n",
    "# Very small cases_per_day poses problems because we use log; interpolate those values\n",
    "log_new_cases = np.log(cases_per_day.where(cases_per_day > 2)).interpolate().dropna()\n",
    "log_new_cases.plot(title='log(daily new cases)');"
   ]
  },
  {
   "cell_type": "code",
   "execution_count": 11,
   "metadata": {},
   "outputs": [],
   "source": [
    "f, P_density = scipy.signal.periodogram(cases_per_day.diff().dropna(), window='hann', scaling='spectrum')\n",
    "pg = pd.Series(data=P_density[f > 0], index=1.0/f[f > 0])"
   ]
  },
  {
   "cell_type": "code",
   "execution_count": 12,
   "metadata": {},
   "outputs": [
    {
     "data": {
      "application/vnd.jupyter.widget-view+json": {
       "model_id": "3640ea825476448f907253fec8bab0f0",
       "version_major": 2,
       "version_minor": 0
      },
      "text/plain": [
       "Canvas(toolbar=Toolbar(toolitems=[('Home', 'Reset original view', 'home', 'home'), ('Back', 'Back to previous …"
      ]
     },
     "metadata": {},
     "output_type": "display_data"
    }
   ],
   "source": [
    "%matplotlib widget\n",
    "pg.plot(xlim=(1.5, 15), title='Spectrum of cases-per-day-change', xlabel='period (days)', ylabel='amplitude');\n",
    "# pg.plot(xlim=(1.5, 15), title='Spectrum of cases-per-day-change', xlabel='period (days)', ylabel='amplitude', logy=True);"
   ]
  },
  {
   "cell_type": "code",
   "execution_count": 13,
   "metadata": {},
   "outputs": [],
   "source": [
    "def design_filter(cutoff_period, order=16):\n",
    "    filt_sos = scipy.signal.butter(order, 1/cutoff_period, output='sos', fs=1.0)\n",
    "    return filt_sos"
   ]
  },
  {
   "cell_type": "code",
   "execution_count": 14,
   "metadata": {},
   "outputs": [
    {
     "data": {
      "application/vnd.jupyter.widget-view+json": {
       "model_id": "e41491b9daea47a8841fe8e827081f2e",
       "version_major": 2,
       "version_minor": 0
      },
      "text/plain": [
       "Canvas(toolbar=Toolbar(toolitems=[('Home', 'Reset original view', 'home', 'home'), ('Back', 'Back to previous …"
      ]
     },
     "metadata": {},
     "output_type": "display_data"
    },
    {
     "data": {
      "application/vnd.jupyter.widget-view+json": {
       "model_id": "38558e2dce2c4c56830c2a8543925af8",
       "version_major": 2,
       "version_minor": 0
      },
      "text/plain": [
       "interactive(children=(IntSlider(value=10, description='period', layout=Layout(width='auto'), max=90, min=3), I…"
      ]
     },
     "metadata": {},
     "output_type": "display_data"
    }
   ],
   "source": [
    "%matplotlib widget\n",
    "cases_per_day_filt = pd.Series(scipy.signal.sosfiltfilt(design_filter(10.0), cases_per_day), index=cases_per_day.index)\n",
    "cases_per_day.plot(title='Daily new cases', label='Unfiltered', legend=True, figsize=(9, 4), alpha=.5)\n",
    "ax = cases_per_day_filt.plot(label='Filtered', legend=True, color='red')\n",
    "\n",
    "line = ax.lines[-1]\n",
    "\n",
    "def plot_filtered(period=10, filter_order=16, peek_into_future=True):\n",
    "    sos = design_filter(period, order=filter_order)\n",
    "    filt_fun = scipy.signal.sosfilt\n",
    "    if peek_into_future:\n",
    "        filt_fun = scipy.signal.sosfiltfilt\n",
    "    cases_per_day_filt = pd.Series(filt_fun(sos, cases_per_day), index=cases_per_day.index)\n",
    "    line.set_ydata(cases_per_day_filt)\n",
    "    ax.figure.canvas.draw_idle()\n",
    "    \n",
    "layout = {'width': 'auto'}\n",
    "    \n",
    "ipywidgets.interactive(\n",
    "    plot_filtered,\n",
    "    period=ipywidgets.IntSlider(min=3, max=90, value=10, layout=layout),\n",
    "    filter_order=ipywidgets.IntSlider(min=1, max=32, value=8, layout=layout),\n",
    "    peek_into_future=True)"
   ]
  }
 ],
 "metadata": {
  "kernelspec": {
   "display_name": "torch38",
   "language": "python",
   "name": "torch38"
  },
  "language_info": {
   "codemirror_mode": {
    "name": "ipython",
    "version": 3
   },
   "file_extension": ".py",
   "mimetype": "text/x-python",
   "name": "python",
   "nbconvert_exporter": "python",
   "pygments_lexer": "ipython3",
   "version": "3.8.6"
  }
 },
 "nbformat": 4,
 "nbformat_minor": 4
}
