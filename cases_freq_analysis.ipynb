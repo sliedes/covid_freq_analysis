{
 "cells": [
  {
   "cell_type": "code",
   "execution_count": 1,
   "metadata": {},
   "outputs": [],
   "source": [
    "import pandas as pd\n",
    "import numpy as np\n",
    "import datetime\n",
    "import calendar\n",
    "import scipy.signal\n",
    "import ipywidgets"
   ]
  },
  {
   "cell_type": "code",
   "execution_count": 2,
   "metadata": {},
   "outputs": [],
   "source": [
    "START_CASES = 500\n",
    "COUNTRY = 'Finland'"
   ]
  },
  {
   "cell_type": "code",
   "execution_count": 3,
   "metadata": {},
   "outputs": [],
   "source": [
    "data = pd.read_csv('https://raw.githubusercontent.com/CSSEGISandData/COVID-19/master/csse_covid_19_data/csse_covid_19_time_series/time_series_covid19_confirmed_global.csv')\n",
    "data = data[data['Country/Region'] == COUNTRY].loc[:, '1/22/20':].T.iloc[:, 0].rename('cum_cases')\n",
    "data.index = pd.to_datetime(data.index).rename('date')\n",
    "# start from first day with at most START_CASES cases\n",
    "data = data[(data >= START_CASES).idxmax():]"
   ]
  },
  {
   "cell_type": "code",
   "execution_count": 4,
   "metadata": {},
   "outputs": [
    {
     "data": {
      "text/plain": [
       "date\n",
       "2020-03-21      523\n",
       "2020-03-22      626\n",
       "2020-03-23      700\n",
       "2020-03-24      792\n",
       "2020-03-25      880\n",
       "              ...  \n",
       "2021-03-18    69497\n",
       "2021-03-19    70267\n",
       "2021-03-20    71123\n",
       "2021-03-21    71643\n",
       "2021-03-22    72073\n",
       "Name: cum_cases, Length: 367, dtype: int64"
      ]
     },
     "execution_count": 4,
     "metadata": {},
     "output_type": "execute_result"
    }
   ],
   "source": [
    "data"
   ]
  },
  {
   "cell_type": "code",
   "execution_count": 5,
   "metadata": {},
   "outputs": [
    {
     "data": {
      "application/vnd.jupyter.widget-view+json": {
       "model_id": "6f074f19760e4ef0964e99cab2b7ae32",
       "version_major": 2,
       "version_minor": 0
      },
      "text/plain": [
       "Canvas(toolbar=Toolbar(toolitems=[('Home', 'Reset original view', 'home', 'home'), ('Back', 'Back to previous …"
      ]
     },
     "metadata": {},
     "output_type": "display_data"
    }
   ],
   "source": [
    "%matplotlib widget\n",
    "data.plot(title='Cases, cumulative');"
   ]
  },
  {
   "cell_type": "code",
   "execution_count": 6,
   "metadata": {},
   "outputs": [
    {
     "data": {
      "application/vnd.jupyter.widget-view+json": {
       "model_id": "b4438cec5f8148c19d2503806aacbf09",
       "version_major": 2,
       "version_minor": 0
      },
      "text/plain": [
       "Canvas(toolbar=Toolbar(toolitems=[('Home', 'Reset original view', 'home', 'home'), ('Back', 'Back to previous …"
      ]
     },
     "metadata": {},
     "output_type": "display_data"
    }
   ],
   "source": [
    "cases_per_day = data.diff().dropna()\n",
    "\n",
    "%matplotlib widget\n",
    "cases_per_day.plot();"
   ]
  },
  {
   "cell_type": "code",
   "execution_count": 7,
   "metadata": {},
   "outputs": [
    {
     "data": {
      "application/vnd.jupyter.widget-view+json": {
       "model_id": "ae003d9e9ed64e7da0002f71a1ad4d33",
       "version_major": 2,
       "version_minor": 0
      },
      "text/plain": [
       "Canvas(toolbar=Toolbar(toolitems=[('Home', 'Reset original view', 'home', 'home'), ('Back', 'Back to previous …"
      ]
     },
     "metadata": {},
     "output_type": "display_data"
    }
   ],
   "source": [
    "%matplotlib widget\n",
    "\n",
    "for weekday in range(7):\n",
    "    # df = nonzero_days[nonzero_days.index.weekday == weekday]\n",
    "    df = cases_per_day[cases_per_day.index.weekday == weekday]\n",
    "    df.rolling(5, center=True).mean().plot(label=calendar.day_name[weekday], legend=True, logy=True, title='Daily new cases, weekdays, smoothed')\n",
    "    # df.plot(label=calendar.day_name[weekday], legend=True, title='Daily new cases')"
   ]
  },
  {
   "cell_type": "code",
   "execution_count": 8,
   "metadata": {},
   "outputs": [
    {
     "data": {
      "application/vnd.jupyter.widget-view+json": {
       "model_id": "086d910c15b243a6bc5d87c2de6a09ad",
       "version_major": 2,
       "version_minor": 0
      },
      "text/plain": [
       "Canvas(toolbar=Toolbar(toolitems=[('Home', 'Reset original view', 'home', 'home'), ('Back', 'Back to previous …"
      ]
     },
     "metadata": {},
     "output_type": "display_data"
    }
   ],
   "source": [
    "%matplotlib widget\n",
    "\n",
    "MIN_CASES_PER_DAY = 0\n",
    "smoothed = cases_per_day.rolling(7, center=True).mean()\n",
    "smoothed = smoothed.where(smoothed >= MIN_CASES_PER_DAY)\n",
    "diff_to_win = (cases_per_day - smoothed) / smoothed * 100.0\n",
    "for weekday in range(7):\n",
    "    df = diff_to_win[cases_per_day.index.weekday == weekday]\n",
    "    df.rolling(5, center=True).mean().plot(label=calendar.day_name[weekday], legend=True, logy=False, title='Daily new cases, diff to 7-day window mean, %')"
   ]
  },
  {
   "cell_type": "code",
   "execution_count": 9,
   "metadata": {},
   "outputs": [
    {
     "data": {
      "application/vnd.jupyter.widget-view+json": {
       "model_id": "02bcadf0d53247fc8295615567a5f687",
       "version_major": 2,
       "version_minor": 0
      },
      "text/plain": [
       "Canvas(toolbar=Toolbar(toolitems=[('Home', 'Reset original view', 'home', 'home'), ('Back', 'Back to previous …"
      ]
     },
     "metadata": {},
     "output_type": "display_data"
    }
   ],
   "source": [
    "%matplotlib widget\n",
    "np.log(cases_per_day.where(cases_per_day > 0)).diff().plot(title='Change in number of new cases from previous day');"
   ]
  },
  {
   "cell_type": "code",
   "execution_count": 10,
   "metadata": {},
   "outputs": [
    {
     "data": {
      "application/vnd.jupyter.widget-view+json": {
       "model_id": "4cee2f5cbf934251a0233ce5ae5cb2c0",
       "version_major": 2,
       "version_minor": 0
      },
      "text/plain": [
       "Canvas(toolbar=Toolbar(toolitems=[('Home', 'Reset original view', 'home', 'home'), ('Back', 'Back to previous …"
      ]
     },
     "metadata": {},
     "output_type": "display_data"
    }
   ],
   "source": [
    "%matplotlib widget\n",
    "# Very small cases_per_day poses problems because we use log; interpolate those values\n",
    "log_new_cases = np.log(cases_per_day.where(cases_per_day > 2)).interpolate().dropna()\n",
    "log_new_cases.plot(title='log(daily new cases)');"
   ]
  },
  {
   "cell_type": "code",
   "execution_count": 11,
   "metadata": {},
   "outputs": [],
   "source": [
    "f, P_density = scipy.signal.periodogram(cases_per_day.diff().dropna(), window='hann', scaling='spectrum')\n",
    "pg = pd.Series(data=P_density[f > 0], index=1.0/f[f > 0])"
   ]
  },
  {
   "cell_type": "code",
   "execution_count": 12,
   "metadata": {},
   "outputs": [
    {
     "data": {
      "application/vnd.jupyter.widget-view+json": {
       "model_id": "15c51b1d58674096868054fba6cf7d95",
       "version_major": 2,
       "version_minor": 0
      },
      "text/plain": [
       "Canvas(toolbar=Toolbar(toolitems=[('Home', 'Reset original view', 'home', 'home'), ('Back', 'Back to previous …"
      ]
     },
     "metadata": {},
     "output_type": "display_data"
    }
   ],
   "source": [
    "%matplotlib widget\n",
    "pg.plot(xlim=(1.5, 15), title='Spectrum of cases-per-day-change', xlabel='period (days)', ylabel='amplitude');\n",
    "# pg.plot(xlim=(1.5, 15), title='Spectrum of cases-per-day-change', xlabel='period (days)', ylabel='amplitude', logy=True);"
   ]
  },
  {
   "cell_type": "code",
   "execution_count": 13,
   "metadata": {},
   "outputs": [],
   "source": [
    "def design_filter(cutoff_period, order=16):\n",
    "    filt_sos = scipy.signal.butter(order, 1/cutoff_period, output='sos', fs=1.0)\n",
    "    return filt_sos"
   ]
  },
  {
   "cell_type": "code",
   "execution_count": 14,
   "metadata": {},
   "outputs": [
    {
     "data": {
      "application/vnd.jupyter.widget-view+json": {
       "model_id": "3e5677e1bf224a07aaa21f8bff5803a7",
       "version_major": 2,
       "version_minor": 0
      },
      "text/plain": [
       "Canvas(toolbar=Toolbar(toolitems=[('Home', 'Reset original view', 'home', 'home'), ('Back', 'Back to previous …"
      ]
     },
     "metadata": {},
     "output_type": "display_data"
    },
    {
     "data": {
      "application/vnd.jupyter.widget-view+json": {
       "model_id": "209a7336146648818b5f311f3247ebbb",
       "version_major": 2,
       "version_minor": 0
      },
      "text/plain": [
       "interactive(children=(IntSlider(value=10, description='period', layout=Layout(width='auto'), max=90, min=3), I…"
      ]
     },
     "metadata": {},
     "output_type": "display_data"
    }
   ],
   "source": [
    "%matplotlib widget\n",
    "cases_per_day_filt = pd.Series(scipy.signal.sosfiltfilt(design_filter(10.0), cases_per_day), index=cases_per_day.index)\n",
    "cases_per_day.plot(title='Daily new cases', label='Unfiltered', legend=True, figsize=(15, 3), alpha=.5)\n",
    "ax = cases_per_day_filt.plot(label='Filtered', legend=True, color='red')\n",
    "\n",
    "line = ax.lines[-1]\n",
    "\n",
    "def plot_filtered(period=10, filter_order=16, peek_into_future=True):\n",
    "    sos = design_filter(period, order=filter_order)\n",
    "    filt_fun = scipy.signal.sosfilt\n",
    "    if peek_into_future:\n",
    "        filt_fun = scipy.signal.sosfiltfilt\n",
    "    cases_per_day_filt = pd.Series(filt_fun(sos, cases_per_day), index=cases_per_day.index)\n",
    "    line.set_ydata(cases_per_day_filt)\n",
    "    ax.figure.canvas.draw_idle()\n",
    "    \n",
    "layout = {'width': 'auto'}\n",
    "    \n",
    "ipywidgets.interactive(\n",
    "    plot_filtered,\n",
    "    period=ipywidgets.IntSlider(min=3, max=90, value=10, layout=layout),\n",
    "    filter_order=ipywidgets.IntSlider(min=1, max=32, value=8, layout=layout),\n",
    "    peek_into_future=True)"
   ]
  }
 ],
 "metadata": {
  "kernelspec": {
   "display_name": "torch38",
   "language": "python",
   "name": "torch38"
  },
  "language_info": {
   "codemirror_mode": {
    "name": "ipython",
    "version": 3
   },
   "file_extension": ".py",
   "mimetype": "text/x-python",
   "name": "python",
   "nbconvert_exporter": "python",
   "pygments_lexer": "ipython3",
   "version": "3.8.6"
  }
 },
 "nbformat": 4,
 "nbformat_minor": 4
}
